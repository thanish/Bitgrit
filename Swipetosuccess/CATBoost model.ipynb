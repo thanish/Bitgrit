{
 "cells": [
  {
   "cell_type": "code",
   "execution_count": null,
   "metadata": {},
   "outputs": [],
   "source": [
    "import pandas as pd\n",
    "import numpy as np\n",
    "from datetime import datetime\n",
    "\n",
    "from sklearn.model_selection import train_test_split\n",
    "from sklearn.metrics import accuracy_score\n",
    "\n",
    "from sklearn.metrics import confusion_matrix\n",
    "from catboost import CatBoostClassifier, Pool, cv\n",
    "\n",
    "import matplotlib.pyplot as plt\n",
    "import seaborn as sns\n",
    "\n",
    "import gc"
   ]
  },
  {
   "cell_type": "code",
   "execution_count": null,
   "metadata": {},
   "outputs": [],
   "source": [
    "train_prod = pd.read_pickle(\"../data/train_prod_v16.pickle\")\n",
    "test_prod = pd.read_pickle(\"../data/test_prod_v16.pickle\")\n",
    "\n",
    "print(train_prod.shape, test_prod.shape)"
   ]
  },
  {
   "cell_type": "code",
   "execution_count": null,
   "metadata": {},
   "outputs": [],
   "source": [
    "train_prod['age_difference'] = train_prod['from_age']-train_prod['to_age']\n",
    "test_prod['age_difference'] = test_prod['from_age']-test_prod['to_age']"
   ]
  },
  {
   "cell_type": "code",
   "execution_count": null,
   "metadata": {},
   "outputs": [],
   "source": [
    "# More Feature Engineering\n",
    "\n",
    "train_prod['to_swipe_by_session_percentage'] = train_prod['to_total_swipe_counts']/ train_prod['to_total_session_count']\n",
    "train_prod['from_swipe_by_session_percentage'] = train_prod['from_total_swipe_counts']/ train_prod['to_total_session_count']\n",
    "\n",
    "test_prod['to_swipe_by_session_percentage'] = test_prod['to_total_swipe_counts']/ test_prod['to_total_session_count']\n",
    "test_prod['from_swipe_by_session_percentage'] = test_prod['from_total_swipe_counts']/ test_prod['to_total_session_count']\n",
    "\n",
    "train_prod['to_common_users_left_swipe_percentage'] = train_prod['common_users_swiped_left']/train_prod['to_swipe_left_count']\n",
    "train_prod['from_common_users_left_swipe_percentage'] = train_prod['common_users_swiped_left']/train_prod['from_swipe_left_count']\n",
    "\n",
    "train_prod['to_common_users_right_swipe_percentage'] = train_prod['common_users_swiped_right']/train_prod['to_swipe_right_count']\n",
    "train_prod['from_common_users_right_swipe_percentage'] = train_prod['common_users_swiped_right']/train_prod['from_swipe_right_count']\n",
    "\n",
    "train_prod['to_overall_common_users_left_swipe_percentage'] = train_prod['common_users_swiped_left']/train_prod['to_total_swipe_counts']\n",
    "train_prod['from_overall_common_users_left_swipe_percentage'] = train_prod['common_users_swiped_left']/train_prod['from_total_swipe_counts']\n",
    "\n",
    "train_prod['to_overall_common_users_right_swipe_percentage'] = train_prod['common_users_swiped_right']/train_prod['to_total_swipe_counts']\n",
    "train_prod['from_overall_common_users_right_swipe_percentage'] = train_prod['common_users_swiped_right']/train_prod['from_total_swipe_counts']\n",
    "\n",
    "test_prod['to_common_users_left_swipe_percentage'] = test_prod['common_users_swiped_left']/test_prod['to_swipe_left_count']\n",
    "test_prod['from_common_users_left_swipe_percentage'] = test_prod['common_users_swiped_left']/test_prod['from_swipe_left_count']\n",
    "\n",
    "test_prod['to_common_users_right_swipe_percentage'] = test_prod['common_users_swiped_right']/test_prod['to_swipe_right_count']\n",
    "test_prod['from_common_users_right_swipe_percentage'] = test_prod['common_users_swiped_right']/test_prod['from_swipe_right_count']\n",
    "\n",
    "test_prod['to_overall_common_users_left_swipe_percentage'] = test_prod['common_users_swiped_left']/test_prod['to_total_swipe_counts']\n",
    "test_prod['from_overall_common_users_left_swipe_percentage'] = test_prod['common_users_swiped_left']/test_prod['from_total_swipe_counts']\n",
    "\n",
    "test_prod['to_overall_common_users_right_swipe_percentage'] = test_prod['common_users_swiped_right']/test_prod['to_total_swipe_counts']\n",
    "test_prod['from_overall_common_users_right_swipe_percentage'] = test_prod['common_users_swiped_right']/test_prod['from_total_swipe_counts']"
   ]
  },
  {
   "cell_type": "code",
   "execution_count": null,
   "metadata": {},
   "outputs": [],
   "source": [
    "train_prod.fillna(-999, inplace=True)\n",
    "test_prod.fillna(-999, inplace=True)"
   ]
  },
  {
   "cell_type": "code",
   "execution_count": null,
   "metadata": {},
   "outputs": [],
   "source": [
    "dep = 'score'\n",
    "drop = ['from-to'] + train_prod.columns[train_prod.columns.str.contains(\"to_self_intro\")].tolist()\n",
    "indep = train_prod.columns.difference([dep]+drop)\n",
    "\n",
    "print(\"Indep length:\",len(indep))"
   ]
  },
  {
   "cell_type": "code",
   "execution_count": null,
   "metadata": {},
   "outputs": [],
   "source": [
    "np.random.seed(100)\n",
    "train_local_X, test_local_X, train_local_Y, test_local_Y = train_test_split(train_prod[indep],\n",
    "                                                                            train_prod[dep], \n",
    "                                                                            test_size=0.2,\n",
    "                                                                            stratify=train_prod[dep])\n",
    "\n",
    "print(train_local_X.shape, train_local_Y.shape, test_local_X.shape, test_local_Y.shape)"
   ]
  },
  {
   "cell_type": "markdown",
   "metadata": {},
   "source": [
    "# Cat Boost"
   ]
  },
  {
   "cell_type": "markdown",
   "metadata": {},
   "source": [
    "#### Cross Validation"
   ]
  },
  {
   "cell_type": "code",
   "execution_count": null,
   "metadata": {
    "scrolled": true
   },
   "outputs": [],
   "source": [
    "nrounds = 10000\n",
    "nfold = 5\n",
    "\n",
    "cv_dataset = Pool(data=train_prod[indep],\n",
    "                  label=train_prod[dep],)\n",
    "\n",
    "params = {\"iterations\": nrounds\n",
    "          ,\"depth\": 10\n",
    "          ,\"learning_rate\":0.01\n",
    "          ,\"task_type\":'GPU'\n",
    "          ,\"loss_function\": \"MultiClass\"\n",
    "          ,\"eval_metric\":'Accuracy'\n",
    "          ,\"verbose\": True}\n",
    "\n",
    "np.random.seed(100)\n",
    "scores = cv(cv_dataset\n",
    "            ,params\n",
    "            ,fold_count=nfold\n",
    "            ,stratified=True\n",
    "            ,early_stopping_rounds=20\n",
    "            ,partition_random_seed=100\n",
    "            ,seed=100\n",
    "            ,plot=\"False\")"
   ]
  },
  {
   "cell_type": "markdown",
   "metadata": {},
   "source": [
    "# Catboost local validation"
   ]
  },
  {
   "cell_type": "code",
   "execution_count": null,
   "metadata": {
    "scrolled": true
   },
   "outputs": [],
   "source": [
    "nrounds = 100000\n",
    "\n",
    "eval_dataset = Pool(test_local_X, test_local_Y)\n",
    "np.random.seed(100)\n",
    "cat_local_model = CatBoostClassifier(iterations=nrounds\n",
    "                                     ,learning_rate=0.06\n",
    "                                     ,depth=12\n",
    "                                     #,subsample=0.8\n",
    "                                     #,colsample_bylevel=1\n",
    "                                     ,task_type=\"CPU\"\n",
    "                                     #,loss_function='RMSE'\n",
    "                                     ,eval_metric='Accuracy'\n",
    "                                     ,early_stopping_rounds=20\n",
    "                                    )\n",
    "\n",
    "cat_local_model.fit(train_local_X,\n",
    "                    train_local_Y,\n",
    "                    eval_set=eval_dataset)"
   ]
  },
  {
   "cell_type": "code",
   "execution_count": null,
   "metadata": {},
   "outputs": [],
   "source": [
    "cat_local_prediction = cat_local_model.predict(test_local_X)\n",
    "cat_local_prediction = cat_local_prediction.reshape(-1)\n",
    "\n",
    "sns.heatmap(confusion_matrix(test_local_Y, cat_local_prediction), annot=True, fmt='', cmap='Blues')\n",
    "plt.xlabel('Prediction')\n",
    "plt.ylabel('Actual')"
   ]
  },
  {
   "cell_type": "code",
   "execution_count": null,
   "metadata": {
    "scrolled": true
   },
   "outputs": [],
   "source": [
    "feature_importance = pd.DataFrame({'features':cat_local_model.feature_names_,\n",
    "                                   'value':cat_local_model.feature_importances_}).sort_values(['value'], ascending=False)\n",
    "feature_importance.head(60)"
   ]
  },
  {
   "cell_type": "markdown",
   "metadata": {},
   "source": [
    "# Prod model"
   ]
  },
  {
   "cell_type": "code",
   "execution_count": null,
   "metadata": {
    "scrolled": true
   },
   "outputs": [],
   "source": [
    "best_round = cat_local_model.best_iteration_\n",
    "final_round = best_round + int(best_round/nfold)\n",
    "print(\"Local best round is:\", best_round)\n",
    "print(\"The total iteration is going to be:\", final_round)\n",
    "\n",
    "eval_dataset = Pool(test_local_X, test_local_Y)\n",
    "\n",
    "np.random.seed(100)\n",
    "cat_prod_model = CatBoostClassifier(iterations=final_round\n",
    "                                    ,learning_rate=0.08\n",
    "                                     ,depth=13\n",
    "                                     ,task_type=\"GPU\"\n",
    "                                     #,loss_function='RMSE'\n",
    "                                     ,eval_metric='Accuracy'\n",
    "                                     ,early_stopping_rounds=20\n",
    "                                    )\n",
    "\n",
    "cat_prod_model.fit(train_prod[indep],\n",
    "                    train_prod[dep],\n",
    "                    eval_set=eval_dataset)"
   ]
  },
  {
   "cell_type": "code",
   "execution_count": null,
   "metadata": {},
   "outputs": [],
   "source": [
    "cat_prod_prediction = cat_prod_model.predict(test_prod[indep])\n",
    "cat_prod_prediction = cat_prod_prediction.reshape(-1)\n",
    "cat_prod_prediction"
   ]
  },
  {
   "cell_type": "code",
   "execution_count": null,
   "metadata": {},
   "outputs": [],
   "source": [
    "cat_submission = pd.DataFrame({\"from-to\": test_prod['from-to'],\n",
    "                               \"score\": cat_prod_prediction.astype('float')})\n",
    "\n",
    "cat_submission.to_csv(\"../submissions/cat_sub_4.csv\", index=False)"
   ]
  }
 ],
 "metadata": {
  "kernelspec": {
   "display_name": "Python 3",
   "language": "python",
   "name": "python3"
  },
  "language_info": {
   "codemirror_mode": {
    "name": "ipython",
    "version": 3
   },
   "file_extension": ".py",
   "mimetype": "text/x-python",
   "name": "python",
   "nbconvert_exporter": "python",
   "pygments_lexer": "ipython3",
   "version": "3.7.6"
  }
 },
 "nbformat": 4,
 "nbformat_minor": 2
}
